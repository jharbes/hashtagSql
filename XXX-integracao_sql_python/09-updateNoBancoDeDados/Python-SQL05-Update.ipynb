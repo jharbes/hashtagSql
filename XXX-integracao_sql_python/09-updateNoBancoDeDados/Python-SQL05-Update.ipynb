{
 "cells": [
  {
   "cell_type": "markdown",
   "metadata": {},
   "source": [
    "# Desafio Python e SQL\n",
    "\n",
    "### Update"
   ]
  },
  {
   "cell_type": "code",
   "execution_count": 1,
   "metadata": {},
   "outputs": [
    {
     "data": {
      "text/plain": [
       "['SQL Server',\n",
       " 'ODBC Driver 17 for SQL Server',\n",
       " 'Microsoft Access Driver (*.mdb, *.accdb)',\n",
       " 'Microsoft Excel Driver (*.xls, *.xlsx, *.xlsm, *.xlsb)',\n",
       " 'Microsoft Access Text Driver (*.txt, *.csv)',\n",
       " 'SQLite3 ODBC Driver',\n",
       " 'SQLite ODBC Driver',\n",
       " 'SQLite ODBC (UTF-8) Driver']"
      ]
     },
     "metadata": {},
     "output_type": "display_data"
    }
   ],
   "source": [
    "import pyodbc\n",
    "\n",
    "# imprime os drivers disponiveis na maquina para facilitar o valor a ser alimentado em dadosConexao, caso seja no arquivo .py teremos que usar o print\n",
    "display(pyodbc.drivers())\n",
    "\n",
    "dadosConexao=('Driver={SQLite3 ODBC Driver};Server=localhost;Database=chinook.db')\n",
    "\n",
    "conexao=pyodbc.connect(dadosConexao)\n",
    "\n",
    "cursor=conexao.cursor()"
   ]
  },
  {
   "cell_type": "code",
   "execution_count": null,
   "metadata": {},
   "outputs": [],
   "source": [
    "cursor.execute('''\n",
    "UPDATE customers SET Email=\"lira@embraer.com.br\" WHERE Email=\"luisg@embraer.com.br\"\n",
    "''') # executar o comando SQL, observe que como usamos aspas simples do lado de fora teremos que usar aspas duplas para envolver os emails\n",
    "\n",
    "cursor.commit() # perpetuar no bando as alteracoes efetuadas"
   ]
  },
  {
   "cell_type": "code",
   "execution_count": null,
   "metadata": {},
   "outputs": [],
   "source": [
    "cursor.close()\n",
    "conexao.close() # finalizar a conexao"
   ]
  }
 ],
 "metadata": {
  "kernelspec": {
   "display_name": "Python 3 (ipykernel)",
   "language": "python",
   "name": "python3"
  },
  "language_info": {
   "codemirror_mode": {
    "name": "ipython",
    "version": 3
   },
   "file_extension": ".py",
   "mimetype": "text/x-python",
   "name": "python",
   "nbconvert_exporter": "python",
   "pygments_lexer": "ipython3",
   "version": "3.11.2"
  }
 },
 "nbformat": 4,
 "nbformat_minor": 4
}
