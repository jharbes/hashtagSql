{
 "cells": [
  {
   "cell_type": "markdown",
   "metadata": {},
   "source": [
    "# Desafio Python e SQL\n",
    "\n",
    "### Create"
   ]
  },
  {
   "cell_type": "code",
   "execution_count": 7,
   "metadata": {},
   "outputs": [
    {
     "data": {
      "text/plain": [
       "['SQL Server',\n",
       " 'ODBC Driver 17 for SQL Server',\n",
       " 'Microsoft Access Driver (*.mdb, *.accdb)',\n",
       " 'Microsoft Excel Driver (*.xls, *.xlsx, *.xlsm, *.xlsb)',\n",
       " 'Microsoft Access Text Driver (*.txt, *.csv)',\n",
       " 'SQLite3 ODBC Driver',\n",
       " 'SQLite ODBC Driver',\n",
       " 'SQLite ODBC (UTF-8) Driver']"
      ]
     },
     "metadata": {},
     "output_type": "display_data"
    }
   ],
   "source": [
    "import pyodbc\n",
    "\n",
    "# imprime os drivers disponiveis na maquina para facilitar o valor a ser alimentado em dadosConexao, caso seja no arquivo .py teremos que usar o print\n",
    "display(pyodbc.drivers())\n",
    "\n",
    "dadosConexao=('Driver={SQLite3 ODBC Driver};Server=localhost;Database=chinook.db')\n",
    "\n",
    "conexao=pyodbc.connect(dadosConexao)\n",
    "\n",
    "cursor=conexao.cursor()"
   ]
  },
  {
   "cell_type": "code",
   "execution_count": null,
   "metadata": {},
   "outputs": [],
   "source": [
    "# comando para criar um comando/query a ser commitado ao banco de dados\n",
    "# cursor.execute('COMANDO SQL')\n",
    "\n",
    "cursor.execute(\"\"\"\n",
    "INSERT INTO albums (Title,ArtistId)\n",
    "VALUES\n",
    "('Lira Rock',4)\n",
    "\"\"\")\n",
    "\n",
    "# apos fazemos o comando execute precisamos 'commitar' esse comando para o banco de dados ou ele nao sera efetuado no banco de dados, para isso utilizaremos o cursor.commit()\n",
    "cursor.commit()"
   ]
  },
  {
   "cell_type": "code",
   "execution_count": null,
   "metadata": {},
   "outputs": [],
   "source": [
    "# encerrando a conexao do banco de dados\n",
    "cursor.close()\n",
    "conexao.close()"
   ]
  }
 ],
 "metadata": {
  "kernelspec": {
   "display_name": "Python 3 (ipykernel)",
   "language": "python",
   "name": "python3"
  },
  "language_info": {
   "codemirror_mode": {
    "name": "ipython",
    "version": 3
   },
   "file_extension": ".py",
   "mimetype": "text/x-python",
   "name": "python",
   "nbconvert_exporter": "python",
   "pygments_lexer": "ipython3",
   "version": "3.11.2"
  }
 },
 "nbformat": 4,
 "nbformat_minor": 4
}
